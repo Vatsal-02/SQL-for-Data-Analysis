{
 "cells": [
  {
   "cell_type": "markdown",
   "metadata": {},
   "source": [
    "<h2> Importing Datasets </h2>\n",
    "Let's import the relevant datasets on which we will run SQL queries. Press Ctrl+Enter to run the codes in each of the boxes below.<br><br>\n",
    "I highly advice you to download the excel file (available <a href=\"https://github.com/ItsAwSM/SQL-for-Data-Analytics/blob/main/sales_database.xlsx?raw=true\">here</a>) which has the schema and the data which we will query in this assignment. Spend some time to go through the schema, understand the relationships between different datasets and then analyze all the datasets in excel once. "
   ]
  },
  {
   "cell_type": "code",
   "execution_count": 1,
   "metadata": {},
   "outputs": [
    {
     "name": "stdout",
     "output_type": "stream",
     "text": [
      "Requirement already satisfied: pandas in c:\\users\\vatsa\\anaconda3\\lib\\site-packages (1.1.3)\n",
      "Requirement already satisfied: numpy>=1.15.4 in c:\\users\\vatsa\\anaconda3\\lib\\site-packages (from pandas) (1.19.2)\n",
      "Requirement already satisfied: python-dateutil>=2.7.3 in c:\\users\\vatsa\\anaconda3\\lib\\site-packages (from pandas) (2.8.1)\n",
      "Requirement already satisfied: pytz>=2017.2 in c:\\users\\vatsa\\anaconda3\\lib\\site-packages (from pandas) (2020.1)\n",
      "Requirement already satisfied: six>=1.5 in c:\\users\\vatsa\\anaconda3\\lib\\site-packages (from python-dateutil>=2.7.3->pandas) (1.15.0)\n",
      "Note: you may need to restart the kernel to use updated packages.\n"
     ]
    }
   ],
   "source": [
    "pip install pandas"
   ]
  },
  {
   "cell_type": "code",
   "execution_count": 2,
   "metadata": {},
   "outputs": [
    {
     "name": "stdout",
     "output_type": "stream",
     "text": [
      "Requirement already satisfied: pandasql in c:\\users\\vatsa\\anaconda3\\lib\\site-packages (0.7.3)\n",
      "Requirement already satisfied: numpy in c:\\users\\vatsa\\anaconda3\\lib\\site-packages (from pandasql) (1.19.2)\n",
      "Requirement already satisfied: sqlalchemy in c:\\users\\vatsa\\anaconda3\\lib\\site-packages (from pandasql) (1.3.20)\n",
      "Requirement already satisfied: pandas in c:\\users\\vatsa\\anaconda3\\lib\\site-packages (from pandasql) (1.1.3)\n",
      "Requirement already satisfied: python-dateutil>=2.7.3 in c:\\users\\vatsa\\anaconda3\\lib\\site-packages (from pandas->pandasql) (2.8.1)\n",
      "Requirement already satisfied: pytz>=2017.2 in c:\\users\\vatsa\\anaconda3\\lib\\site-packages (from pandas->pandasql) (2020.1)\n",
      "Requirement already satisfied: six>=1.5 in c:\\users\\vatsa\\anaconda3\\lib\\site-packages (from python-dateutil>=2.7.3->pandas->pandasql) (1.15.0)\n",
      "Note: you may need to restart the kernel to use updated packages.\n"
     ]
    }
   ],
   "source": [
    "pip install pandasql"
   ]
  },
  {
   "cell_type": "code",
   "execution_count": 3,
   "metadata": {},
   "outputs": [
    {
     "name": "stdout",
     "output_type": "stream",
     "text": [
      "Requirement already satisfied: xlrd in c:\\users\\vatsa\\anaconda3\\lib\\site-packages (1.2.0)\n",
      "Note: you may need to restart the kernel to use updated packages.\n"
     ]
    }
   ],
   "source": [
    "pip install xlrd"
   ]
  },
  {
   "cell_type": "code",
   "execution_count": 1,
   "metadata": {},
   "outputs": [],
   "source": [
    "import pandas as pd\n",
    "import pandasql as ps"
   ]
  },
  {
   "cell_type": "code",
   "execution_count": 2,
   "metadata": {},
   "outputs": [
    {
     "data": {
      "text/html": [
       "<div>\n",
       "<style scoped>\n",
       "    .dataframe tbody tr th:only-of-type {\n",
       "        vertical-align: middle;\n",
       "    }\n",
       "\n",
       "    .dataframe tbody tr th {\n",
       "        vertical-align: top;\n",
       "    }\n",
       "\n",
       "    .dataframe thead th {\n",
       "        text-align: right;\n",
       "    }\n",
       "</style>\n",
       "<table border=\"1\" class=\"dataframe\">\n",
       "  <thead>\n",
       "    <tr style=\"text-align: right;\">\n",
       "      <th></th>\n",
       "      <th>cust_id</th>\n",
       "      <th>first_name</th>\n",
       "      <th>last_name</th>\n",
       "      <th>email</th>\n",
       "      <th>phone</th>\n",
       "      <th>primary_pincode</th>\n",
       "      <th>gender</th>\n",
       "      <th>dob</th>\n",
       "      <th>joining_date</th>\n",
       "    </tr>\n",
       "  </thead>\n",
       "  <tbody>\n",
       "    <tr>\n",
       "      <th>0</th>\n",
       "      <td>10000001</td>\n",
       "      <td>Rahul</td>\n",
       "      <td>Gupta</td>\n",
       "      <td>rahul.gupta@gmail.com</td>\n",
       "      <td>8960722319</td>\n",
       "      <td>110001</td>\n",
       "      <td>male</td>\n",
       "      <td>02-12-1977</td>\n",
       "      <td>19-02-2016</td>\n",
       "    </tr>\n",
       "    <tr>\n",
       "      <th>1</th>\n",
       "      <td>10000002</td>\n",
       "      <td>Abhinav</td>\n",
       "      <td>Sharma</td>\n",
       "      <td>abhinav.sharma@gmail.com</td>\n",
       "      <td>8857852863</td>\n",
       "      <td>400001</td>\n",
       "      <td>male</td>\n",
       "      <td>20-09-1995</td>\n",
       "      <td>01-10-2016</td>\n",
       "    </tr>\n",
       "    <tr>\n",
       "      <th>2</th>\n",
       "      <td>10000003</td>\n",
       "      <td>Anubhav</td>\n",
       "      <td>Patel</td>\n",
       "      <td>anubhav.patel@gmail.com</td>\n",
       "      <td>8492146048</td>\n",
       "      <td>560001</td>\n",
       "      <td>male</td>\n",
       "      <td>26-12-1986</td>\n",
       "      <td>16-08-2018</td>\n",
       "    </tr>\n",
       "    <tr>\n",
       "      <th>3</th>\n",
       "      <td>10000004</td>\n",
       "      <td>Neha</td>\n",
       "      <td>Verma</td>\n",
       "      <td>neha.verma@gmail.com</td>\n",
       "      <td>8631861914</td>\n",
       "      <td>600001</td>\n",
       "      <td>female</td>\n",
       "      <td>20-01-2002</td>\n",
       "      <td>28-07-2009</td>\n",
       "    </tr>\n",
       "    <tr>\n",
       "      <th>4</th>\n",
       "      <td>10000005</td>\n",
       "      <td>John</td>\n",
       "      <td>Bernard</td>\n",
       "      <td>john.bernard@gmail.com</td>\n",
       "      <td>8215391844</td>\n",
       "      <td>500001</td>\n",
       "      <td>male</td>\n",
       "      <td>NaN</td>\n",
       "      <td>05-03-2017</td>\n",
       "    </tr>\n",
       "  </tbody>\n",
       "</table>\n",
       "</div>"
      ],
      "text/plain": [
       "    cust_id first_name last_name                     email       phone  \\\n",
       "0  10000001      Rahul     Gupta     rahul.gupta@gmail.com  8960722319   \n",
       "1  10000002    Abhinav    Sharma  abhinav.sharma@gmail.com  8857852863   \n",
       "2  10000003    Anubhav     Patel   anubhav.patel@gmail.com  8492146048   \n",
       "3  10000004       Neha     Verma      neha.verma@gmail.com  8631861914   \n",
       "4  10000005       John   Bernard    john.bernard@gmail.com  8215391844   \n",
       "\n",
       "   primary_pincode  gender         dob joining_date  \n",
       "0           110001    male  02-12-1977   19-02-2016  \n",
       "1           400001    male  20-09-1995   01-10-2016  \n",
       "2           560001    male  26-12-1986   16-08-2018  \n",
       "3           600001  female  20-01-2002   28-07-2009  \n",
       "4           500001    male         NaN   05-03-2017  "
      ]
     },
     "execution_count": 2,
     "metadata": {},
     "output_type": "execute_result"
    }
   ],
   "source": [
    "#Importing customer dataset\n",
    "customer_dim = pd.read_excel(\"https://github.com/ItsAwSM/SQL-for-Data-Analytics/blob/main/sales_database.xlsx?raw=true\", \n",
    "                             sheet_name=\"customer_dim\")\n",
    "customer_dim.head()"
   ]
  },
  {
   "cell_type": "code",
   "execution_count": 3,
   "metadata": {},
   "outputs": [
    {
     "data": {
      "text/html": [
       "<div>\n",
       "<style scoped>\n",
       "    .dataframe tbody tr th:only-of-type {\n",
       "        vertical-align: middle;\n",
       "    }\n",
       "\n",
       "    .dataframe tbody tr th {\n",
       "        vertical-align: top;\n",
       "    }\n",
       "\n",
       "    .dataframe thead th {\n",
       "        text-align: right;\n",
       "    }\n",
       "</style>\n",
       "<table border=\"1\" class=\"dataframe\">\n",
       "  <thead>\n",
       "    <tr style=\"text-align: right;\">\n",
       "      <th></th>\n",
       "      <th>product_id</th>\n",
       "      <th>product_name</th>\n",
       "      <th>brand</th>\n",
       "      <th>category</th>\n",
       "      <th>procurement_cost_per_unit</th>\n",
       "      <th>mrp</th>\n",
       "    </tr>\n",
       "  </thead>\n",
       "  <tbody>\n",
       "    <tr>\n",
       "      <th>0</th>\n",
       "      <td>12345</td>\n",
       "      <td>HP XYZ Mouse</td>\n",
       "      <td>HP</td>\n",
       "      <td>mouse</td>\n",
       "      <td>650</td>\n",
       "      <td>1500</td>\n",
       "    </tr>\n",
       "    <tr>\n",
       "      <th>1</th>\n",
       "      <td>12346</td>\n",
       "      <td>HP 241H</td>\n",
       "      <td>HP</td>\n",
       "      <td>laptop</td>\n",
       "      <td>45000</td>\n",
       "      <td>80000</td>\n",
       "    </tr>\n",
       "    <tr>\n",
       "      <th>2</th>\n",
       "      <td>12347</td>\n",
       "      <td>HP 8GB Pendrive</td>\n",
       "      <td>HP</td>\n",
       "      <td>pendrive</td>\n",
       "      <td>350</td>\n",
       "      <td>800</td>\n",
       "    </tr>\n",
       "    <tr>\n",
       "      <th>3</th>\n",
       "      <td>12348</td>\n",
       "      <td>Dell ABC Mouse</td>\n",
       "      <td>Dell</td>\n",
       "      <td>mouse</td>\n",
       "      <td>350</td>\n",
       "      <td>1100</td>\n",
       "    </tr>\n",
       "    <tr>\n",
       "      <th>4</th>\n",
       "      <td>12349</td>\n",
       "      <td>Dell AX420</td>\n",
       "      <td>Dell</td>\n",
       "      <td>laptop</td>\n",
       "      <td>30000</td>\n",
       "      <td>75000</td>\n",
       "    </tr>\n",
       "  </tbody>\n",
       "</table>\n",
       "</div>"
      ],
      "text/plain": [
       "   product_id     product_name brand  category  procurement_cost_per_unit  \\\n",
       "0       12345     HP XYZ Mouse    HP     mouse                        650   \n",
       "1       12346          HP 241H    HP    laptop                      45000   \n",
       "2       12347  HP 8GB Pendrive    HP  pendrive                        350   \n",
       "3       12348   Dell ABC Mouse  Dell     mouse                        350   \n",
       "4       12349       Dell AX420  Dell    laptop                      30000   \n",
       "\n",
       "     mrp  \n",
       "0   1500  \n",
       "1  80000  \n",
       "2    800  \n",
       "3   1100  \n",
       "4  75000  "
      ]
     },
     "execution_count": 3,
     "metadata": {},
     "output_type": "execute_result"
    }
   ],
   "source": [
    "#Importing product dataset\n",
    "product_dim = pd.read_excel(\"https://github.com/ItsAwSM/SQL-for-Data-Analytics/blob/main/sales_database.xlsx?raw=true\", \n",
    "                            sheet_name=\"product_dim\")\n",
    "product_dim.head()"
   ]
  },
  {
   "cell_type": "code",
   "execution_count": 4,
   "metadata": {},
   "outputs": [
    {
     "data": {
      "text/html": [
       "<div>\n",
       "<style scoped>\n",
       "    .dataframe tbody tr th:only-of-type {\n",
       "        vertical-align: middle;\n",
       "    }\n",
       "\n",
       "    .dataframe tbody tr th {\n",
       "        vertical-align: top;\n",
       "    }\n",
       "\n",
       "    .dataframe thead th {\n",
       "        text-align: right;\n",
       "    }\n",
       "</style>\n",
       "<table border=\"1\" class=\"dataframe\">\n",
       "  <thead>\n",
       "    <tr style=\"text-align: right;\">\n",
       "      <th></th>\n",
       "      <th>delivery_person_id</th>\n",
       "      <th>name</th>\n",
       "      <th>joining_date</th>\n",
       "      <th>pincode</th>\n",
       "    </tr>\n",
       "  </thead>\n",
       "  <tbody>\n",
       "    <tr>\n",
       "      <th>0</th>\n",
       "      <td>1000008</td>\n",
       "      <td>Indranoor Singh</td>\n",
       "      <td>08-03-2007</td>\n",
       "      <td>110001</td>\n",
       "    </tr>\n",
       "    <tr>\n",
       "      <th>1</th>\n",
       "      <td>1000002</td>\n",
       "      <td>Simon Williams</td>\n",
       "      <td>23-02-2007</td>\n",
       "      <td>400001</td>\n",
       "    </tr>\n",
       "    <tr>\n",
       "      <th>2</th>\n",
       "      <td>1000004</td>\n",
       "      <td>Anubhav Tyagi</td>\n",
       "      <td>16-11-2007</td>\n",
       "      <td>400001</td>\n",
       "    </tr>\n",
       "    <tr>\n",
       "      <th>3</th>\n",
       "      <td>1000006</td>\n",
       "      <td>Aviral Vats</td>\n",
       "      <td>16-11-2007</td>\n",
       "      <td>400001</td>\n",
       "    </tr>\n",
       "    <tr>\n",
       "      <th>4</th>\n",
       "      <td>1000009</td>\n",
       "      <td>Rocky Tiwari</td>\n",
       "      <td>16-11-2007</td>\n",
       "      <td>400001</td>\n",
       "    </tr>\n",
       "  </tbody>\n",
       "</table>\n",
       "</div>"
      ],
      "text/plain": [
       "   delivery_person_id             name joining_date  pincode\n",
       "0             1000008  Indranoor Singh   08-03-2007   110001\n",
       "1             1000002   Simon Williams   23-02-2007   400001\n",
       "2             1000004    Anubhav Tyagi   16-11-2007   400001\n",
       "3             1000006      Aviral Vats   16-11-2007   400001\n",
       "4             1000009     Rocky Tiwari   16-11-2007   400001"
      ]
     },
     "execution_count": 4,
     "metadata": {},
     "output_type": "execute_result"
    }
   ],
   "source": [
    "#Importing delivery person dataset\n",
    "delivery_person_dim = pd.read_excel(\"https://github.com/ItsAwSM/SQL-for-Data-Analytics/blob/main/sales_database.xlsx?raw=true\",\n",
    "                                    sheet_name=\"delivery_person_dim\")\n",
    "delivery_person_dim.head()"
   ]
  },
  {
   "cell_type": "code",
   "execution_count": 5,
   "metadata": {
    "scrolled": true
   },
   "outputs": [
    {
     "data": {
      "text/html": [
       "<div>\n",
       "<style scoped>\n",
       "    .dataframe tbody tr th:only-of-type {\n",
       "        vertical-align: middle;\n",
       "    }\n",
       "\n",
       "    .dataframe tbody tr th {\n",
       "        vertical-align: top;\n",
       "    }\n",
       "\n",
       "    .dataframe thead th {\n",
       "        text-align: right;\n",
       "    }\n",
       "</style>\n",
       "<table border=\"1\" class=\"dataframe\">\n",
       "  <thead>\n",
       "    <tr style=\"text-align: right;\">\n",
       "      <th></th>\n",
       "      <th>pincode</th>\n",
       "      <th>city</th>\n",
       "      <th>state</th>\n",
       "    </tr>\n",
       "  </thead>\n",
       "  <tbody>\n",
       "    <tr>\n",
       "      <th>0</th>\n",
       "      <td>110001</td>\n",
       "      <td>New Delhi</td>\n",
       "      <td>New Delhi</td>\n",
       "    </tr>\n",
       "    <tr>\n",
       "      <th>1</th>\n",
       "      <td>400001</td>\n",
       "      <td>Mumbai</td>\n",
       "      <td>Maharastra</td>\n",
       "    </tr>\n",
       "    <tr>\n",
       "      <th>2</th>\n",
       "      <td>560001</td>\n",
       "      <td>Bangalore</td>\n",
       "      <td>Karnataka</td>\n",
       "    </tr>\n",
       "    <tr>\n",
       "      <th>3</th>\n",
       "      <td>600001</td>\n",
       "      <td>Chennai</td>\n",
       "      <td>Tamil Nadu</td>\n",
       "    </tr>\n",
       "    <tr>\n",
       "      <th>4</th>\n",
       "      <td>500001</td>\n",
       "      <td>Hyderabad</td>\n",
       "      <td>Telangana</td>\n",
       "    </tr>\n",
       "  </tbody>\n",
       "</table>\n",
       "</div>"
      ],
      "text/plain": [
       "   pincode       city       state\n",
       "0   110001  New Delhi   New Delhi\n",
       "1   400001     Mumbai  Maharastra\n",
       "2   560001  Bangalore   Karnataka\n",
       "3   600001    Chennai  Tamil Nadu\n",
       "4   500001  Hyderabad   Telangana"
      ]
     },
     "execution_count": 5,
     "metadata": {},
     "output_type": "execute_result"
    }
   ],
   "source": [
    "#Importing pincode dataset\n",
    "pincode_dim = pd.read_excel(\"https://github.com/ItsAwSM/SQL-for-Data-Analytics/blob/main/sales_database.xlsx?raw=true\", \n",
    "                            sheet_name=\"pincode_dim\")\n",
    "pincode_dim.head()"
   ]
  },
  {
   "cell_type": "code",
   "execution_count": 18,
   "metadata": {
    "scrolled": false
   },
   "outputs": [
    {
     "data": {
      "text/html": [
       "<div>\n",
       "<style scoped>\n",
       "    .dataframe tbody tr th:only-of-type {\n",
       "        vertical-align: middle;\n",
       "    }\n",
       "\n",
       "    .dataframe tbody tr th {\n",
       "        vertical-align: top;\n",
       "    }\n",
       "\n",
       "    .dataframe thead th {\n",
       "        text-align: right;\n",
       "    }\n",
       "</style>\n",
       "<table border=\"1\" class=\"dataframe\">\n",
       "  <thead>\n",
       "    <tr style=\"text-align: right;\">\n",
       "      <th></th>\n",
       "      <th>order_id</th>\n",
       "      <th>order_type</th>\n",
       "      <th>cust_id</th>\n",
       "      <th>order_date</th>\n",
       "      <th>delivery_date</th>\n",
       "      <th>tot_units</th>\n",
       "      <th>displayed_selling_price_per_unit</th>\n",
       "      <th>total_amount_paid</th>\n",
       "      <th>product_id</th>\n",
       "      <th>delivery_person_id</th>\n",
       "      <th>payment_type</th>\n",
       "      <th>delivery_pincode</th>\n",
       "    </tr>\n",
       "  </thead>\n",
       "  <tbody>\n",
       "    <tr>\n",
       "      <th>0</th>\n",
       "      <td>10000000001</td>\n",
       "      <td>buy</td>\n",
       "      <td>10000009</td>\n",
       "      <td>01-01-2020</td>\n",
       "      <td>03-01-2020</td>\n",
       "      <td>2</td>\n",
       "      <td>73500</td>\n",
       "      <td>138180</td>\n",
       "      <td>12349</td>\n",
       "      <td>1000003</td>\n",
       "      <td>cash</td>\n",
       "      <td>500001</td>\n",
       "    </tr>\n",
       "    <tr>\n",
       "      <th>1</th>\n",
       "      <td>10000000002</td>\n",
       "      <td>buy</td>\n",
       "      <td>10000004</td>\n",
       "      <td>01-01-2020</td>\n",
       "      <td>04-01-2020</td>\n",
       "      <td>9</td>\n",
       "      <td>67500</td>\n",
       "      <td>577125</td>\n",
       "      <td>12349</td>\n",
       "      <td>1000005</td>\n",
       "      <td>cash</td>\n",
       "      <td>700001</td>\n",
       "    </tr>\n",
       "    <tr>\n",
       "      <th>2</th>\n",
       "      <td>10000000003</td>\n",
       "      <td>buy</td>\n",
       "      <td>10000012</td>\n",
       "      <td>01-01-2020</td>\n",
       "      <td>02-01-2020</td>\n",
       "      <td>2</td>\n",
       "      <td>60750</td>\n",
       "      <td>119070</td>\n",
       "      <td>12349</td>\n",
       "      <td>1000002</td>\n",
       "      <td>netbanking</td>\n",
       "      <td>400001</td>\n",
       "    </tr>\n",
       "    <tr>\n",
       "      <th>3</th>\n",
       "      <td>10000000004</td>\n",
       "      <td>buy</td>\n",
       "      <td>10000012</td>\n",
       "      <td>01-01-2020</td>\n",
       "      <td>03-01-2020</td>\n",
       "      <td>8</td>\n",
       "      <td>736</td>\n",
       "      <td>5824</td>\n",
       "      <td>12347</td>\n",
       "      <td>1000010</td>\n",
       "      <td>cash</td>\n",
       "      <td>600001</td>\n",
       "    </tr>\n",
       "    <tr>\n",
       "      <th>4</th>\n",
       "      <td>10000000005</td>\n",
       "      <td>buy</td>\n",
       "      <td>10000008</td>\n",
       "      <td>01-01-2020</td>\n",
       "      <td>06-01-2020</td>\n",
       "      <td>1</td>\n",
       "      <td>60750</td>\n",
       "      <td>57105</td>\n",
       "      <td>12349</td>\n",
       "      <td>1000003</td>\n",
       "      <td>debit</td>\n",
       "      <td>500001</td>\n",
       "    </tr>\n",
       "  </tbody>\n",
       "</table>\n",
       "</div>"
      ],
      "text/plain": [
       "      order_id order_type   cust_id  order_date delivery_date  tot_units  \\\n",
       "0  10000000001        buy  10000009  01-01-2020    03-01-2020          2   \n",
       "1  10000000002        buy  10000004  01-01-2020    04-01-2020          9   \n",
       "2  10000000003        buy  10000012  01-01-2020    02-01-2020          2   \n",
       "3  10000000004        buy  10000012  01-01-2020    03-01-2020          8   \n",
       "4  10000000005        buy  10000008  01-01-2020    06-01-2020          1   \n",
       "\n",
       "   displayed_selling_price_per_unit  total_amount_paid  product_id  \\\n",
       "0                             73500             138180       12349   \n",
       "1                             67500             577125       12349   \n",
       "2                             60750             119070       12349   \n",
       "3                               736               5824       12347   \n",
       "4                             60750              57105       12349   \n",
       "\n",
       "   delivery_person_id payment_type  delivery_pincode  \n",
       "0             1000003         cash            500001  \n",
       "1             1000005         cash            700001  \n",
       "2             1000002   netbanking            400001  \n",
       "3             1000010         cash            600001  \n",
       "4             1000003        debit            500001  "
      ]
     },
     "execution_count": 18,
     "metadata": {},
     "output_type": "execute_result"
    }
   ],
   "source": [
    "#Importing order dataset\n",
    "order_dim = pd.read_excel(\"https://github.com/ItsAwSM/SQL-for-Data-Analytics/blob/main/sales_database.xlsx?raw=true\", \n",
    "                          sheet_name=\"order_dim\")\n",
    "order_dim.head()"
   ]
  },
  {
   "cell_type": "markdown",
   "metadata": {},
   "source": [
    "<b>Sample question</b><br>\n",
    "You need to write the SQL query between the space mentioned in the box below and then press Ctrl+Enter to run the query. Here is an example - "
   ]
  },
  {
   "cell_type": "markdown",
   "metadata": {},
   "source": [
    "<b>Q0.</b> How many customers are male and how many are female?"
   ]
  },
  {
   "cell_type": "code",
   "execution_count": 7,
   "metadata": {},
   "outputs": [
    {
     "data": {
      "text/html": [
       "<div>\n",
       "<style scoped>\n",
       "    .dataframe tbody tr th:only-of-type {\n",
       "        vertical-align: middle;\n",
       "    }\n",
       "\n",
       "    .dataframe tbody tr th {\n",
       "        vertical-align: top;\n",
       "    }\n",
       "\n",
       "    .dataframe thead th {\n",
       "        text-align: right;\n",
       "    }\n",
       "</style>\n",
       "<table border=\"1\" class=\"dataframe\">\n",
       "  <thead>\n",
       "    <tr style=\"text-align: right;\">\n",
       "      <th></th>\n",
       "      <th>gender</th>\n",
       "      <th>cust_cnt</th>\n",
       "    </tr>\n",
       "  </thead>\n",
       "  <tbody>\n",
       "    <tr>\n",
       "      <th>0</th>\n",
       "      <td>female</td>\n",
       "      <td>4</td>\n",
       "    </tr>\n",
       "    <tr>\n",
       "      <th>1</th>\n",
       "      <td>male</td>\n",
       "      <td>10</td>\n",
       "    </tr>\n",
       "  </tbody>\n",
       "</table>\n",
       "</div>"
      ],
      "text/plain": [
       "   gender  cust_cnt\n",
       "0  female         4\n",
       "1    male        10"
      ]
     },
     "execution_count": 7,
     "metadata": {},
     "output_type": "execute_result"
    }
   ],
   "source": [
    "ans = ps.sqldf(\"\"\"\n",
    "\n",
    "\n",
    "SELECT \n",
    "    c.gender,\n",
    "    COUNT(c.cust_id) AS cust_cnt\n",
    "FROM customer_dim AS c\n",
    "GROUP BY c.gender\n",
    "\n",
    "\n",
    "\"\"\")\n",
    "\n",
    "ans"
   ]
  },
  {
   "cell_type": "markdown",
   "metadata": {},
   "source": [
    "<h2> Questions on Basic SQL</h2>"
   ]
  },
  {
   "cell_type": "markdown",
   "metadata": {},
   "source": [
    "<b>Q1.</b> How many customers do not have DOB information available?"
   ]
  },
  {
   "cell_type": "code",
   "execution_count": 11,
   "metadata": {},
   "outputs": [
    {
     "data": {
      "text/html": [
       "<div>\n",
       "<style scoped>\n",
       "    .dataframe tbody tr th:only-of-type {\n",
       "        vertical-align: middle;\n",
       "    }\n",
       "\n",
       "    .dataframe tbody tr th {\n",
       "        vertical-align: top;\n",
       "    }\n",
       "\n",
       "    .dataframe thead th {\n",
       "        text-align: right;\n",
       "    }\n",
       "</style>\n",
       "<table border=\"1\" class=\"dataframe\">\n",
       "  <thead>\n",
       "    <tr style=\"text-align: right;\">\n",
       "      <th></th>\n",
       "      <th>cust_cnt</th>\n",
       "    </tr>\n",
       "  </thead>\n",
       "  <tbody>\n",
       "    <tr>\n",
       "      <th>0</th>\n",
       "      <td>0</td>\n",
       "    </tr>\n",
       "  </tbody>\n",
       "</table>\n",
       "</div>"
      ],
      "text/plain": [
       "   cust_cnt\n",
       "0         0"
      ]
     },
     "execution_count": 11,
     "metadata": {},
     "output_type": "execute_result"
    }
   ],
   "source": [
    "ans = ps.sqldf(\"\"\"\n",
    "---------------------WRITE QUERY BELOW---------------------\n",
    "\n",
    "SELECT \n",
    "    COUNT(c.cust_id) AS cust_cnt\n",
    "FROM customer_dim AS c\n",
    "WHERE c.dob IS NULL\n",
    "\n",
    "---------------------WRITE QUERY ABOVE---------------------\n",
    "\"\"\")\n",
    "\n",
    "ans"
   ]
  },
  {
   "cell_type": "markdown",
   "metadata": {},
   "source": [
    "<b>Q2.</b> How many customers are there in each pincode and gender combination?"
   ]
  },
  {
   "cell_type": "code",
   "execution_count": 9,
   "metadata": {},
   "outputs": [
    {
     "data": {
      "text/html": [
       "<div>\n",
       "<style scoped>\n",
       "    .dataframe tbody tr th:only-of-type {\n",
       "        vertical-align: middle;\n",
       "    }\n",
       "\n",
       "    .dataframe tbody tr th {\n",
       "        vertical-align: top;\n",
       "    }\n",
       "\n",
       "    .dataframe thead th {\n",
       "        text-align: right;\n",
       "    }\n",
       "</style>\n",
       "<table border=\"1\" class=\"dataframe\">\n",
       "  <thead>\n",
       "    <tr style=\"text-align: right;\">\n",
       "      <th></th>\n",
       "      <th>primary_pincode</th>\n",
       "      <th>gender</th>\n",
       "      <th>cust_cnt</th>\n",
       "    </tr>\n",
       "  </thead>\n",
       "  <tbody>\n",
       "    <tr>\n",
       "      <th>0</th>\n",
       "      <td>110001</td>\n",
       "      <td>male</td>\n",
       "      <td>3</td>\n",
       "    </tr>\n",
       "    <tr>\n",
       "      <th>1</th>\n",
       "      <td>400001</td>\n",
       "      <td>male</td>\n",
       "      <td>2</td>\n",
       "    </tr>\n",
       "    <tr>\n",
       "      <th>2</th>\n",
       "      <td>500001</td>\n",
       "      <td>female</td>\n",
       "      <td>1</td>\n",
       "    </tr>\n",
       "    <tr>\n",
       "      <th>3</th>\n",
       "      <td>500001</td>\n",
       "      <td>male</td>\n",
       "      <td>1</td>\n",
       "    </tr>\n",
       "    <tr>\n",
       "      <th>4</th>\n",
       "      <td>560001</td>\n",
       "      <td>female</td>\n",
       "      <td>1</td>\n",
       "    </tr>\n",
       "    <tr>\n",
       "      <th>5</th>\n",
       "      <td>560001</td>\n",
       "      <td>male</td>\n",
       "      <td>1</td>\n",
       "    </tr>\n",
       "    <tr>\n",
       "      <th>6</th>\n",
       "      <td>600001</td>\n",
       "      <td>female</td>\n",
       "      <td>1</td>\n",
       "    </tr>\n",
       "    <tr>\n",
       "      <th>7</th>\n",
       "      <td>600001</td>\n",
       "      <td>male</td>\n",
       "      <td>1</td>\n",
       "    </tr>\n",
       "    <tr>\n",
       "      <th>8</th>\n",
       "      <td>700001</td>\n",
       "      <td>female</td>\n",
       "      <td>1</td>\n",
       "    </tr>\n",
       "    <tr>\n",
       "      <th>9</th>\n",
       "      <td>700001</td>\n",
       "      <td>male</td>\n",
       "      <td>2</td>\n",
       "    </tr>\n",
       "  </tbody>\n",
       "</table>\n",
       "</div>"
      ],
      "text/plain": [
       "   primary_pincode  gender  cust_cnt\n",
       "0           110001    male         3\n",
       "1           400001    male         2\n",
       "2           500001  female         1\n",
       "3           500001    male         1\n",
       "4           560001  female         1\n",
       "5           560001    male         1\n",
       "6           600001  female         1\n",
       "7           600001    male         1\n",
       "8           700001  female         1\n",
       "9           700001    male         2"
      ]
     },
     "execution_count": 9,
     "metadata": {},
     "output_type": "execute_result"
    }
   ],
   "source": [
    "ans = ps.sqldf(\"\"\"\n",
    "---------------------WRITE QUERY BELOW---------------------\n",
    "\n",
    "SELECT \n",
    "    c.primary_pincode,\n",
    "    c.gender,\n",
    "    COUNT(c.cust_id) AS cust_cnt\n",
    "FROM customer_dim AS c\n",
    "GROUP BY \n",
    "    c.primary_pincode,\n",
    "    c.gender\n",
    "\n",
    "---------------------WRITE QUERY ABOVE---------------------\n",
    "\"\"\")\n",
    "\n",
    "ans"
   ]
  },
  {
   "cell_type": "markdown",
   "metadata": {},
   "source": [
    "<b>Q3.</b> Print product name and mrp for products which have more than 50000 MRP"
   ]
  },
  {
   "cell_type": "code",
   "execution_count": 14,
   "metadata": {},
   "outputs": [
    {
     "data": {
      "text/html": [
       "<div>\n",
       "<style scoped>\n",
       "    .dataframe tbody tr th:only-of-type {\n",
       "        vertical-align: middle;\n",
       "    }\n",
       "\n",
       "    .dataframe tbody tr th {\n",
       "        vertical-align: top;\n",
       "    }\n",
       "\n",
       "    .dataframe thead th {\n",
       "        text-align: right;\n",
       "    }\n",
       "</style>\n",
       "<table border=\"1\" class=\"dataframe\">\n",
       "  <thead>\n",
       "    <tr style=\"text-align: right;\">\n",
       "      <th></th>\n",
       "      <th>product_name</th>\n",
       "      <th>mrp</th>\n",
       "    </tr>\n",
       "  </thead>\n",
       "  <tbody>\n",
       "    <tr>\n",
       "      <th>0</th>\n",
       "      <td>HP 241H</td>\n",
       "      <td>80000</td>\n",
       "    </tr>\n",
       "    <tr>\n",
       "      <th>1</th>\n",
       "      <td>Dell AX420</td>\n",
       "      <td>75000</td>\n",
       "    </tr>\n",
       "  </tbody>\n",
       "</table>\n",
       "</div>"
      ],
      "text/plain": [
       "  product_name    mrp\n",
       "0      HP 241H  80000\n",
       "1   Dell AX420  75000"
      ]
     },
     "execution_count": 14,
     "metadata": {},
     "output_type": "execute_result"
    }
   ],
   "source": [
    "ans = ps.sqldf(\"\"\"\n",
    "---------------------WRITE QUERY BELOW---------------------\n",
    "\n",
    "SELECT \n",
    "    p.product_name,\n",
    "    p.mrp\n",
    "FROM product_dim AS p\n",
    "WHERE p.mrp>50000\n",
    "\n",
    "---------------------WRITE QUERY ABOVE---------------------\n",
    "\"\"\")\n",
    "\n",
    "ans"
   ]
  },
  {
   "cell_type": "markdown",
   "metadata": {},
   "source": [
    "<b>Q4.</b> How many delivery personal are there in each pincode?"
   ]
  },
  {
   "cell_type": "code",
   "execution_count": 15,
   "metadata": {},
   "outputs": [
    {
     "data": {
      "text/html": [
       "<div>\n",
       "<style scoped>\n",
       "    .dataframe tbody tr th:only-of-type {\n",
       "        vertical-align: middle;\n",
       "    }\n",
       "\n",
       "    .dataframe tbody tr th {\n",
       "        vertical-align: top;\n",
       "    }\n",
       "\n",
       "    .dataframe thead th {\n",
       "        text-align: right;\n",
       "    }\n",
       "</style>\n",
       "<table border=\"1\" class=\"dataframe\">\n",
       "  <thead>\n",
       "    <tr style=\"text-align: right;\">\n",
       "      <th></th>\n",
       "      <th>pincode</th>\n",
       "      <th>dp_cnt</th>\n",
       "    </tr>\n",
       "  </thead>\n",
       "  <tbody>\n",
       "    <tr>\n",
       "      <th>0</th>\n",
       "      <td>110001</td>\n",
       "      <td>1</td>\n",
       "    </tr>\n",
       "    <tr>\n",
       "      <th>1</th>\n",
       "      <td>400001</td>\n",
       "      <td>4</td>\n",
       "    </tr>\n",
       "    <tr>\n",
       "      <th>2</th>\n",
       "      <td>500001</td>\n",
       "      <td>1</td>\n",
       "    </tr>\n",
       "    <tr>\n",
       "      <th>3</th>\n",
       "      <td>560001</td>\n",
       "      <td>1</td>\n",
       "    </tr>\n",
       "    <tr>\n",
       "      <th>4</th>\n",
       "      <td>600001</td>\n",
       "      <td>1</td>\n",
       "    </tr>\n",
       "    <tr>\n",
       "      <th>5</th>\n",
       "      <td>700001</td>\n",
       "      <td>2</td>\n",
       "    </tr>\n",
       "  </tbody>\n",
       "</table>\n",
       "</div>"
      ],
      "text/plain": [
       "   pincode  dp_cnt\n",
       "0   110001       1\n",
       "1   400001       4\n",
       "2   500001       1\n",
       "3   560001       1\n",
       "4   600001       1\n",
       "5   700001       2"
      ]
     },
     "execution_count": 15,
     "metadata": {},
     "output_type": "execute_result"
    }
   ],
   "source": [
    "ans = ps.sqldf(\"\"\"\n",
    "---------------------WRITE QUERY BELOW---------------------\n",
    "\n",
    "SELECT \n",
    "    d.pincode,\n",
    "    COUNT(d.delivery_person_id) AS dp_cnt\n",
    "FROM delivery_person_dim AS d\n",
    "GROUP BY d.pincode\n",
    "\n",
    "---------------------WRITE QUERY ABOVE---------------------\n",
    "\"\"\")\n",
    "\n",
    "ans"
   ]
  },
  {
   "cell_type": "markdown",
   "metadata": {},
   "source": [
    "<b>Q5.</b> For each Pin code, print the count of orders, sum of total amount paid, average amount paid, maximum amount paid, minimum amount paid for the transactions which were paid by 'cash'. Take only 'buy' order types"
   ]
  },
  {
   "cell_type": "code",
   "execution_count": 19,
   "metadata": {},
   "outputs": [
    {
     "data": {
      "text/html": [
       "<div>\n",
       "<style scoped>\n",
       "    .dataframe tbody tr th:only-of-type {\n",
       "        vertical-align: middle;\n",
       "    }\n",
       "\n",
       "    .dataframe tbody tr th {\n",
       "        vertical-align: top;\n",
       "    }\n",
       "\n",
       "    .dataframe thead th {\n",
       "        text-align: right;\n",
       "    }\n",
       "</style>\n",
       "<table border=\"1\" class=\"dataframe\">\n",
       "  <thead>\n",
       "    <tr style=\"text-align: right;\">\n",
       "      <th></th>\n",
       "      <th>delivery_pincode</th>\n",
       "      <th>order_cnt</th>\n",
       "      <th>total_amount_paid</th>\n",
       "      <th>avg_amount_paid</th>\n",
       "      <th>max_amount_paid</th>\n",
       "      <th>min_amount_paid</th>\n",
       "    </tr>\n",
       "  </thead>\n",
       "  <tbody>\n",
       "    <tr>\n",
       "      <th>0</th>\n",
       "      <td>110001</td>\n",
       "      <td>19</td>\n",
       "      <td>4026734</td>\n",
       "      <td>211933.368421</td>\n",
       "      <td>608103</td>\n",
       "      <td>676</td>\n",
       "    </tr>\n",
       "    <tr>\n",
       "      <th>1</th>\n",
       "      <td>400001</td>\n",
       "      <td>105</td>\n",
       "      <td>11546300</td>\n",
       "      <td>109964.761905</td>\n",
       "      <td>669750</td>\n",
       "      <td>644</td>\n",
       "    </tr>\n",
       "    <tr>\n",
       "      <th>2</th>\n",
       "      <td>500001</td>\n",
       "      <td>28</td>\n",
       "      <td>4798422</td>\n",
       "      <td>171372.214286</td>\n",
       "      <td>646800</td>\n",
       "      <td>1314</td>\n",
       "    </tr>\n",
       "    <tr>\n",
       "      <th>3</th>\n",
       "      <td>560001</td>\n",
       "      <td>19</td>\n",
       "      <td>2829381</td>\n",
       "      <td>148914.789474</td>\n",
       "      <td>609120</td>\n",
       "      <td>662</td>\n",
       "    </tr>\n",
       "    <tr>\n",
       "      <th>4</th>\n",
       "      <td>600001</td>\n",
       "      <td>19</td>\n",
       "      <td>1456296</td>\n",
       "      <td>76647.157895</td>\n",
       "      <td>669600</td>\n",
       "      <td>1213</td>\n",
       "    </tr>\n",
       "    <tr>\n",
       "      <th>5</th>\n",
       "      <td>700001</td>\n",
       "      <td>53</td>\n",
       "      <td>6871936</td>\n",
       "      <td>129659.169811</td>\n",
       "      <td>721280</td>\n",
       "      <td>687</td>\n",
       "    </tr>\n",
       "  </tbody>\n",
       "</table>\n",
       "</div>"
      ],
      "text/plain": [
       "   delivery_pincode  order_cnt  total_amount_paid  avg_amount_paid  \\\n",
       "0            110001         19            4026734    211933.368421   \n",
       "1            400001        105           11546300    109964.761905   \n",
       "2            500001         28            4798422    171372.214286   \n",
       "3            560001         19            2829381    148914.789474   \n",
       "4            600001         19            1456296     76647.157895   \n",
       "5            700001         53            6871936    129659.169811   \n",
       "\n",
       "   max_amount_paid  min_amount_paid  \n",
       "0           608103              676  \n",
       "1           669750              644  \n",
       "2           646800             1314  \n",
       "3           609120              662  \n",
       "4           669600             1213  \n",
       "5           721280              687  "
      ]
     },
     "execution_count": 19,
     "metadata": {},
     "output_type": "execute_result"
    }
   ],
   "source": [
    "ans = ps.sqldf(\"\"\"\n",
    "---------------------WRITE QUERY BELOW---------------------\n",
    "\n",
    "SELECT\n",
    "    o.delivery_pincode,\n",
    "    COUNT(o.order_id) AS order_cnt,\n",
    "    SUM(o.total_amount_paid) AS total_amount_paid,\n",
    "    AVG(o.total_amount_paid) AS avg_amount_paid,\n",
    "    MAX(o.total_amount_paid) AS max_amount_paid,\n",
    "    MIN(o.total_amount_paid) AS min_amount_paid\n",
    "FROM order_dim as o\n",
    "WHERE o.payment_type = 'cash'\n",
    "    AND o.order_type = 'buy'\n",
    "GROUP BY \n",
    "    o.delivery_pincode\n",
    "\n",
    "---------------------WRITE QUERY ABOVE---------------------\n",
    "\"\"\")\n",
    "\n",
    "ans"
   ]
  },
  {
   "cell_type": "markdown",
   "metadata": {},
   "source": [
    "<b>Q6.</b> For each delivery_person_id, print the count of orders and total amount paid for product_id = 12350 or 12348 and total units > 8. Sort the output by total amount paid in descending order. Take only 'buy' order types"
   ]
  },
  {
   "cell_type": "code",
   "execution_count": null,
   "metadata": {},
   "outputs": [],
   "source": [
    "ans = ps.sqldf(\"\"\"\n",
    "---------------------WRITE QUERY BELOW---------------------\n",
    "\n",
    "SELECT\n",
    "    o.delivery_person_id,\n",
    "    COUNT(o.order_id) AS order_cnt,\n",
    "    SUM(o.total_amount_paid) AS total_amount_paid\n",
    "FROM order_dim as o\n",
    "WHERE o.product_id IN (12350,12348)\n",
    "    AND o.tot_units > 8\n",
    "    AND o.order_type = 'buy'\n",
    "GROUP BY \n",
    "    o.delivery_person_id\n",
    "ORDER BY \n",
    "    SUM(o.total_amount_paid) DESC\n",
    "\n",
    "---------------------WRITE QUERY ABOVE---------------------\n",
    "\"\"\")\n",
    "\n",
    "ans"
   ]
  },
  {
   "cell_type": "markdown",
   "metadata": {},
   "source": [
    "<b>Q7.</b> Print the Full names (first name plus last name) for customers that have email on \"gmail.com\"?"
   ]
  },
  {
   "cell_type": "code",
   "execution_count": null,
   "metadata": {},
   "outputs": [],
   "source": [
    "ans = ps.sqldf(\"\"\"\n",
    "---------------------WRITE QUERY BELOW---------------------\n",
    "\n",
    "SELECT \n",
    "    c.first_name || ' ' || c.last_name AS name\n",
    "FROM customer_dim AS c\n",
    "WHERE c.email LIKE '%gmail%'\n",
    "\n",
    "---------------------WRITE QUERY ABOVE---------------------\n",
    "\"\"\")\n",
    "\n",
    "ans"
   ]
  },
  {
   "cell_type": "markdown",
   "metadata": {},
   "source": [
    "<b>Q8.</b> How many orders had #units between 1-3, 4-6 and 7+? Take only 'buy' order types"
   ]
  },
  {
   "cell_type": "code",
   "execution_count": null,
   "metadata": {},
   "outputs": [],
   "source": [
    "ans = ps.sqldf(\"\"\"\n",
    "---------------------WRITE QUERY BELOW---------------------\n",
    "\n",
    "SELECT \n",
    "    CASE \n",
    "        WHEN o.tot_units <= 3 THEN '1. 1-3'\n",
    "        WHEN o.tot_units <= 6 THEN '2. 4-6'\n",
    "    ELSE '3. 7+' END AS unit_bkt,\n",
    "    COUNT(o.order_id) AS order_cnt\n",
    "FROM order_dim AS o\n",
    "WHERE o.order_type = 'buy'\n",
    "GROUP BY \n",
    "    CASE \n",
    "        WHEN o.tot_units <= 3 THEN '1. 1-3'\n",
    "        WHEN o.tot_units <= 6 THEN '2. 4-6'\n",
    "    ELSE '3. 7+' END    \n",
    "\n",
    "---------------------WRITE QUERY ABOVE---------------------\n",
    "\"\"\")\n",
    "\n",
    "ans"
   ]
  },
  {
   "cell_type": "markdown",
   "metadata": {},
   "source": [
    "<b>Q9.</b> Which pincode has average amount paid more than 150,000? Take only 'buy' order types"
   ]
  },
  {
   "cell_type": "code",
   "execution_count": null,
   "metadata": {},
   "outputs": [],
   "source": [
    "ans = ps.sqldf(\"\"\"\n",
    "---------------------WRITE QUERY BELOW---------------------\n",
    "\n",
    "SELECT\n",
    "    o.delivery_pincode,\n",
    "    AVG(total_amount_paid) AS avg_amount_paid\n",
    "FROM order_dim AS o\n",
    "WHERE o.order_type = 'buy'\n",
    "GROUP BY o.delivery_pincode\n",
    "HAVING AVG(total_amount_paid)>150000\n",
    "\n",
    "---------------------WRITE QUERY ABOVE---------------------\n",
    "\"\"\")\n",
    "\n",
    "ans"
   ]
  },
  {
   "cell_type": "markdown",
   "metadata": {},
   "source": [
    "<b>Q10.</b> Create following columns from order_dim data - \n",
    "<ol>\n",
    "    <li>order_date</li>\n",
    "    <li>Order day</li>\n",
    "    <li>Order month</li>\n",
    "    <li>Order year</li> \n",
    "</ol>"
   ]
  },
  {
   "cell_type": "code",
   "execution_count": 20,
   "metadata": {},
   "outputs": [
    {
     "data": {
      "text/html": [
       "<div>\n",
       "<style scoped>\n",
       "    .dataframe tbody tr th:only-of-type {\n",
       "        vertical-align: middle;\n",
       "    }\n",
       "\n",
       "    .dataframe tbody tr th {\n",
       "        vertical-align: top;\n",
       "    }\n",
       "\n",
       "    .dataframe thead th {\n",
       "        text-align: right;\n",
       "    }\n",
       "</style>\n",
       "<table border=\"1\" class=\"dataframe\">\n",
       "  <thead>\n",
       "    <tr style=\"text-align: right;\">\n",
       "      <th></th>\n",
       "      <th>order_date</th>\n",
       "      <th>order_day</th>\n",
       "      <th>order_month</th>\n",
       "      <th>order_year</th>\n",
       "    </tr>\n",
       "  </thead>\n",
       "  <tbody>\n",
       "    <tr>\n",
       "      <th>67</th>\n",
       "      <td>18-01-2020</td>\n",
       "      <td>18</td>\n",
       "      <td>01</td>\n",
       "      <td>2020</td>\n",
       "    </tr>\n",
       "    <tr>\n",
       "      <th>685</th>\n",
       "      <td>05-07-2020</td>\n",
       "      <td>05</td>\n",
       "      <td>07</td>\n",
       "      <td>2020</td>\n",
       "    </tr>\n",
       "    <tr>\n",
       "      <th>96</th>\n",
       "      <td>26-01-2020</td>\n",
       "      <td>26</td>\n",
       "      <td>01</td>\n",
       "      <td>2020</td>\n",
       "    </tr>\n",
       "    <tr>\n",
       "      <th>802</th>\n",
       "      <td>07-08-2020</td>\n",
       "      <td>07</td>\n",
       "      <td>08</td>\n",
       "      <td>2020</td>\n",
       "    </tr>\n",
       "    <tr>\n",
       "      <th>779</th>\n",
       "      <td>01-08-2020</td>\n",
       "      <td>01</td>\n",
       "      <td>08</td>\n",
       "      <td>2020</td>\n",
       "    </tr>\n",
       "  </tbody>\n",
       "</table>\n",
       "</div>"
      ],
      "text/plain": [
       "     order_date order_day order_month order_year\n",
       "67   18-01-2020        18          01       2020\n",
       "685  05-07-2020        05          07       2020\n",
       "96   26-01-2020        26          01       2020\n",
       "802  07-08-2020        07          08       2020\n",
       "779  01-08-2020        01          08       2020"
      ]
     },
     "execution_count": 20,
     "metadata": {},
     "output_type": "execute_result"
    }
   ],
   "source": [
    "ans = ps.sqldf(\"\"\"\n",
    "---------------------WRITE QUERY BELOW---------------------\n",
    "\n",
    "SELECT \n",
    "    o.order_date,\n",
    "    o.order_date, 1, 2) AS order_day,\n",
    "    o.order_date, 4, 2) AS order_month,\n",
    "    o.order_date, 7, 4) AS order_year\n",
    "FROM order_dim AS o\n",
    "WHERE o.order_type = 'buy'\n",
    "\n",
    "---------------------WRITE QUERY ABOVE---------------------\n",
    "\"\"\")\n",
    "\n",
    "#printing random 5 rows only\n",
    "ans.sample(5)"
   ]
  },
  {
   "cell_type": "markdown",
   "metadata": {},
   "source": [
    "<b>Q11.</b> How many total orders were there in each month and how many of them were returned? Add a column for return rate too.<br>\n",
    "return rate = (100.0 * total return orders) / total buy orders<br>\n",
    "Hint: You will need to combine SUM() with CASE WHEN"
   ]
  },
  {
   "cell_type": "code",
   "execution_count": null,
   "metadata": {
    "scrolled": true
   },
   "outputs": [],
   "source": [
    "ans = ps.sqldf(\"\"\"\n",
    "---------------------WRITE QUERY BELOW---------------------\n",
    "\n",
    "SELECT \n",
    "    SUBSTR(o.order_date, 4, 2) AS order_month,\n",
    "    SUM(CASE WHEN o.order_type = 'buy' THEN 1 ELSE 0 END) AS tot_buy_orders,\n",
    "    SUM(CASE WHEN o.order_type = 'return' THEN 1 ELSE 0 END) AS tot_return_orders,\n",
    "    100.0*SUM(CASE WHEN o.order_type = 'return' THEN 1 ELSE 0 END)/SUM(CASE WHEN o.order_type = 'buy' THEN 1 ELSE 0 END) AS return_rate\n",
    "FROM order_dim AS o\n",
    "GROUP BY SUBSTR(o.order_date, 4, 2)\n",
    "---------------------WRITE QUERY ABOVE---------------------\n",
    "\"\"\")\n",
    "\n",
    "ans"
   ]
  },
  {
   "cell_type": "markdown",
   "metadata": {},
   "source": [
    "<h2> Questions on SQL Joins</h2>"
   ]
  },
  {
   "cell_type": "markdown",
   "metadata": {},
   "source": [
    "<b>Q12.</b> How many units have been sold by each brand? Also get total returned units for each brand."
   ]
  },
  {
   "cell_type": "code",
   "execution_count": null,
   "metadata": {},
   "outputs": [],
   "source": [
    "ans = ps.sqldf(\"\"\"\n",
    "---------------------WRITE QUERY BELOW---------------------\n",
    "\n",
    "SELECT \n",
    "    p.brand,\n",
    "    SUM(CASE WHEN o.order_type = 'buy' THEN o.tot_units ELSE 0 END) AS total_sold,\n",
    "    SUM(CASE WHEN o.order_type = 'return' THEN o.tot_units ELSE 0 END) AS total_returned\n",
    "FROM product_dim AS p\n",
    "LEFT JOIN order_dim AS o\n",
    "    ON p.product_id = o.product_id\n",
    "GROUP BY p.brand\n",
    "\n",
    "---------------------WRITE QUERY ABOVE---------------------\n",
    "\"\"\")\n",
    "\n",
    "ans"
   ]
  },
  {
   "cell_type": "markdown",
   "metadata": {},
   "source": [
    "<b>Q13.</b> How many distinct customers and delivery boys are there in each state?"
   ]
  },
  {
   "cell_type": "code",
   "execution_count": null,
   "metadata": {},
   "outputs": [],
   "source": [
    "ans = ps.sqldf(\"\"\"\n",
    "---------------------WRITE QUERY BELOW---------------------\n",
    "\n",
    "SELECT \n",
    "    pin.state,\n",
    "    COUNT(DISTINCT c.cust_id) AS cust_cnt,\n",
    "    COUNT(DISTINCT d.delivery_person_id) AS dc_cnt\n",
    "FROM pincode_dim AS pin\n",
    "\n",
    "LEFT JOIN customer_dim AS c\n",
    "    ON pin.pincode = c.primary_pincode\n",
    "\n",
    "LEFT JOIN delivery_person_dim AS d\n",
    "    ON pin.pincode = d.pincode\n",
    "    \n",
    "GROUP BY pin.state\n",
    "\n",
    "---------------------WRITE QUERY ABOVE---------------------\n",
    "\"\"\")\n",
    "\n",
    "ans"
   ]
  },
  {
   "cell_type": "markdown",
   "metadata": {},
   "source": [
    "<b>Q14.</b> For every customer, print how many total units were ordered, how many units were ordered from their primary_pincode and how many were ordered not from the primary_pincode. Also calulate the percentage of total units which were ordered from primary_pincode(remember to multiply the numerator by 100.0). Sort by the percentage column in descending order."
   ]
  },
  {
   "cell_type": "code",
   "execution_count": null,
   "metadata": {},
   "outputs": [],
   "source": [
    "ans = ps.sqldf(\"\"\"\n",
    "---------------------WRITE QUERY BELOW---------------------\n",
    "\n",
    "SELECT \n",
    "    c.cust_id,\n",
    "    SUM(o.tot_units) AS tot_units,\n",
    "    SUM(CASE WHEN c.primary_pincode = o.delivery_pincode THEN o.tot_units ELSE 0 END) AS units_same_city,\n",
    "    SUM(CASE WHEN c.primary_pincode != o.delivery_pincode THEN o.tot_units ELSE 0 END) AS units_diff_city,\n",
    "    100.0 * SUM(CASE WHEN c.primary_pincode = o.delivery_pincode THEN o.tot_units ELSE 0 END)/SUM(o.tot_units) AS perc_same_city\n",
    "FROM customer_dim AS c\n",
    "LEFT JOIN order_dim AS o\n",
    "    ON c.cust_id = o.cust_id\n",
    "GROUP BY c.cust_id\n",
    "ORDER BY perc_same_city DESC\n",
    "\n",
    "---------------------WRITE QUERY ABOVE---------------------\n",
    "\"\"\")\n",
    "\n",
    "ans"
   ]
  },
  {
   "cell_type": "markdown",
   "metadata": {},
   "source": [
    "<b>Q15.</b> For each product name, print the sum of number of units, total amount paid, total displayed selling price, total mrp of these units, and finally the net discount from selling price (i.e. 100.0 - 100.0 * total amount paid / total displayed selling price) AND the net discount from mrp (i.e. 100.0 - 100.0 * total amount paid / total mrp)"
   ]
  },
  {
   "cell_type": "code",
   "execution_count": null,
   "metadata": {},
   "outputs": [],
   "source": [
    "ans = ps.sqldf(\"\"\"\n",
    "---------------------WRITE QUERY BELOW---------------------\n",
    "\n",
    "SELECT \n",
    "    p.product_name,\n",
    "    SUM(o.tot_units) AS tot_units,\n",
    "    SUM(o.total_amount_paid) AS total_amount_paid,\n",
    "    SUM(o.displayed_selling_price_per_unit * o.tot_units) AS total_displayed_selling_price,\n",
    "    SUM(p.mrp * o.tot_units) AS total_mrp,\n",
    "    100.0 - 100.0 * SUM(o.total_amount_paid)/SUM(o.displayed_selling_price_per_unit * o.tot_units) AS discount_from_sp,\n",
    "    100.0 - 100.0 * SUM(o.total_amount_paid)/SUM(p.mrp * o.tot_units) AS discount_from_mrp\n",
    "FROM product_dim AS p\n",
    "LEFT JOIN order_dim AS o\n",
    "    ON p.product_id = o.product_id\n",
    "GROUP BY p.product_name\n",
    "\n",
    "---------------------WRITE QUERY ABOVE---------------------\n",
    "\"\"\")\n",
    "\n",
    "ans"
   ]
  },
  {
   "cell_type": "markdown",
   "metadata": {},
   "source": [
    "<b>Q16.</b> For every order_id (exclude returns), get the product name and calculate the discount percentage from selling price. Sort by highest discount and print only those rows where discount percentage was above 10.10%."
   ]
  },
  {
   "cell_type": "code",
   "execution_count": null,
   "metadata": {
    "scrolled": true
   },
   "outputs": [],
   "source": [
    "ans = ps.sqldf(\"\"\"\n",
    "---------------------WRITE QUERY BELOW---------------------\n",
    "\n",
    "SELECT \n",
    "    o.order_id,\n",
    "    p.product_name,\n",
    "    100.0 - 100.0 * o.total_amount_paid/(o.displayed_selling_price_per_unit * o.tot_units) AS discount_from_sp\n",
    "FROM product_dim AS p\n",
    "LEFT JOIN order_dim AS o\n",
    "    ON p.product_id = o.product_id\n",
    "WHERE o.order_type = 'buy'\n",
    "GROUP BY \n",
    "    o.order_id,\n",
    "    p.product_name\n",
    "HAVING discount_from_sp>10.10\n",
    "\n",
    "---------------------WRITE QUERY ABOVE---------------------\n",
    "\"\"\")\n",
    "\n",
    "ans"
   ]
  },
  {
   "cell_type": "markdown",
   "metadata": {},
   "source": [
    "<b>Q17.</b> Using the per unit procurement cost in product_dim, find which product category has made the most profit in both absolute amount and percentage<br>\n",
    "Absolute Profit = Total Amt Sold - Total Procurement Cost<br>\n",
    "Percentage Profit = 100.0 * Total Amt Sold / Total Procurement Cost - 100.0"
   ]
  },
  {
   "cell_type": "code",
   "execution_count": null,
   "metadata": {
    "scrolled": true
   },
   "outputs": [],
   "source": [
    "ans = ps.sqldf(\"\"\"\n",
    "---------------------WRITE QUERY BELOW---------------------\n",
    "\n",
    "SELECT \n",
    "    p.category,\n",
    "    SUM(o.total_amount_paid) - SUM(p.procurement_cost_per_unit * o.tot_units) AS abs_profit,\n",
    "    100.0 * SUM(o.total_amount_paid)/SUM(p.procurement_cost_per_unit * o.tot_units) - 1 AS perc_profit\n",
    "FROM product_dim AS p\n",
    "LEFT JOIN order_dim AS o\n",
    "    ON p.product_id = o.product_id\n",
    "GROUP BY \n",
    "    p.category\n",
    "\n",
    "---------------------WRITE QUERY ABOVE---------------------\n",
    "\"\"\")\n",
    "\n",
    "ans"
   ]
  },
  {
   "cell_type": "markdown",
   "metadata": {},
   "source": [
    "<b>Q18.</b> For every delivery person(use their name), print the total number of order ids (exclude returns) by month in seperate columns i.e. there should be one row for each delivery_person_id and 12 columns for every month in the year"
   ]
  },
  {
   "cell_type": "code",
   "execution_count": null,
   "metadata": {
    "scrolled": true
   },
   "outputs": [],
   "source": [
    "ans = ps.sqldf(\"\"\"\n",
    "---------------------WRITE QUERY BELOW---------------------\n",
    "\n",
    "SELECT \n",
    "    d.name,\n",
    "    SUM(CASE WHEN SUBSTR(o.order_date, 4, 2) = '01' THEN 1 ELSE 0 END) AS Jan,\n",
    "    SUM(CASE WHEN SUBSTR(o.order_date, 4, 2) = '02' THEN 1 ELSE 0 END) AS Feb,\n",
    "    SUM(CASE WHEN SUBSTR(o.order_date, 4, 2) = '03' THEN 1 ELSE 0 END) AS Mar,\n",
    "    SUM(CASE WHEN SUBSTR(o.order_date, 4, 2) = '04' THEN 1 ELSE 0 END) AS Apr,\n",
    "    SUM(CASE WHEN SUBSTR(o.order_date, 4, 2) = '05' THEN 1 ELSE 0 END) AS May,\n",
    "    SUM(CASE WHEN SUBSTR(o.order_date, 4, 2) = '06' THEN 1 ELSE 0 END) AS Jun,\n",
    "    SUM(CASE WHEN SUBSTR(o.order_date, 4, 2) = '07' THEN 1 ELSE 0 END) AS Jul,\n",
    "    SUM(CASE WHEN SUBSTR(o.order_date, 4, 2) = '08' THEN 1 ELSE 0 END) AS Aug,\n",
    "    SUM(CASE WHEN SUBSTR(o.order_date, 4, 2) = '09' THEN 1 ELSE 0 END) AS Sep,\n",
    "    SUM(CASE WHEN SUBSTR(o.order_date, 4, 2) = '10' THEN 1 ELSE 0 END) AS Oct,\n",
    "    SUM(CASE WHEN SUBSTR(o.order_date, 4, 2) = '11' THEN 1 ELSE 0 END) AS Nov,\n",
    "    SUM(CASE WHEN SUBSTR(o.order_date, 4, 2) = '12' THEN 1 ELSE 0 END) AS Dec\n",
    "FROM delivery_person_dim AS d\n",
    "INNER JOIN order_dim AS o\n",
    "    ON d.delivery_person_id = o.delivery_person_id \n",
    "WHERE o.order_type = 'buy'\n",
    "GROUP BY \n",
    "    d.name\n",
    "\n",
    "---------------------WRITE QUERY ABOVE---------------------\n",
    "\"\"\")\n",
    "\n",
    "ans"
   ]
  },
  {
   "cell_type": "markdown",
   "metadata": {},
   "source": [
    "<b>Q19.</b> For each gender - male and female - find the absolute and percentage profit (like in Q16) by product name. "
   ]
  },
  {
   "cell_type": "code",
   "execution_count": null,
   "metadata": {
    "scrolled": true
   },
   "outputs": [],
   "source": [
    "ans = ps.sqldf(\"\"\"\n",
    "---------------------WRITE QUERY BELOW---------------------\n",
    "\n",
    "SELECT \n",
    "    c.gender,\n",
    "    p.category,\n",
    "    SUM(o.total_amount_paid) - SUM(p.procurement_cost_per_unit * o.tot_units) AS abs_profit,\n",
    "    100.0 * SUM(o.total_amount_paid)/SUM(p.procurement_cost_per_unit * o.tot_units) - 1 AS perc_profit\n",
    "FROM customer_dim AS c\n",
    "\n",
    "LEFT JOIN order_dim AS o\n",
    "    ON c.cust_id = o.cust_id\n",
    "    \n",
    "LEFT JOIN product_dim AS p\n",
    "    ON p.product_id = o.product_id\n",
    "    \n",
    "GROUP BY \n",
    "    c.gender,\n",
    "    p.category\n",
    "\n",
    "---------------------WRITE QUERY ABOVE---------------------\n",
    "\"\"\")\n",
    "\n",
    "ans"
   ]
  },
  {
   "cell_type": "markdown",
   "metadata": {},
   "source": [
    "<b>Q20.</b> Generally the more numbers of units you buy, the more discount seller will give you. For 'Dell AX420' is there a relationship between number of units ordered and average discount from selling price? Take only 'buy' order types"
   ]
  },
  {
   "cell_type": "code",
   "execution_count": null,
   "metadata": {
    "scrolled": true
   },
   "outputs": [],
   "source": [
    "ans = ps.sqldf(\"\"\"\n",
    "---------------------WRITE QUERY BELOW---------------------\n",
    "\n",
    "SELECT \n",
    "    o.tot_units,\n",
    "    COUNT(order_id) AS total_orders,\n",
    "    100.0 - 100.0 * o.total_amount_paid/(o.displayed_selling_price_per_unit * o.tot_units) AS discount_from_sp\n",
    "FROM product_dim AS p\n",
    "LEFT JOIN order_dim AS o\n",
    "    ON p.product_id = o.product_id\n",
    "WHERE o.order_type = 'buy'\n",
    "    AND p.product_name = 'Dell AX420'\n",
    "GROUP BY \n",
    "    o.tot_units\n",
    "\n",
    "---------------------WRITE QUERY ABOVE---------------------\n",
    "\"\"\")\n",
    "\n",
    "ans"
   ]
  }
 ],
 "metadata": {
  "kernelspec": {
   "display_name": "Python 3",
   "language": "python",
   "name": "python3"
  },
  "language_info": {
   "codemirror_mode": {
    "name": "ipython",
    "version": 3
   },
   "file_extension": ".py",
   "mimetype": "text/x-python",
   "name": "python",
   "nbconvert_exporter": "python",
   "pygments_lexer": "ipython3",
   "version": "3.8.5"
  }
 },
 "nbformat": 4,
 "nbformat_minor": 2
}
